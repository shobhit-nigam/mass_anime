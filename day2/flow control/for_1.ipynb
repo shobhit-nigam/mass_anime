{
 "cells": [
  {
   "cell_type": "code",
   "execution_count": 1,
   "metadata": {},
   "outputs": [],
   "source": [
    "lista = ['aa', 'bb', 'dd', 'aa', 'ff', 'ww', 'hh']"
   ]
  },
  {
   "cell_type": "code",
   "execution_count": 2,
   "metadata": {},
   "outputs": [
    {
     "name": "stdout",
     "output_type": "stream",
     "text": [
      "val = aa\n",
      "val = bb\n",
      "val = dd\n",
      "val = aa\n",
      "val = ff\n",
      "val = ww\n",
      "val = hh\n"
     ]
    }
   ],
   "source": [
    "for val in lista:\n",
    "    print(\"val =\", val)"
   ]
  },
  {
   "cell_type": "code",
   "execution_count": 3,
   "metadata": {},
   "outputs": [
    {
     "name": "stdout",
     "output_type": "stream",
     "text": [
      "h\n",
      "e\n",
      "l\n",
      "l\n",
      "o\n"
     ]
    }
   ],
   "source": [
    "for val in \"hello\":\n",
    "    print(val)"
   ]
  },
  {
   "cell_type": "code",
   "execution_count": 5,
   "metadata": {},
   "outputs": [
    {
     "name": "stdout",
     "output_type": "stream",
     "text": [
      "val = aa\n",
      "val = bb\n",
      "val = dd\n",
      "val = aa\n"
     ]
    }
   ],
   "source": [
    "for val in lista:\n",
    "    if val == 'ff':\n",
    "        break\n",
    "    print(\"val =\", val)"
   ]
  },
  {
   "cell_type": "code",
   "execution_count": 6,
   "metadata": {},
   "outputs": [
    {
     "name": "stdout",
     "output_type": "stream",
     "text": [
      "['aa', 'bb', 'dd', 'aa', 'ff', 'ww', 'hh']\n"
     ]
    }
   ],
   "source": [
    "print(lista)"
   ]
  },
  {
   "cell_type": "code",
   "execution_count": 7,
   "metadata": {},
   "outputs": [
    {
     "data": {
      "text/plain": [
       "['aa', 'bb', 'dd', 'aa', 'ff', 'ww', 'hh', 'aa', 'ff', 'yy', 'aa']"
      ]
     },
     "execution_count": 7,
     "metadata": {},
     "output_type": "execute_result"
    }
   ],
   "source": [
    "['aa', 'bb', 'dd', 'aa', 'ff', 'ww', 'hh', 'aa', 'ff', 'yy', 'aa']"
   ]
  },
  {
   "cell_type": "code",
   "execution_count": 8,
   "metadata": {},
   "outputs": [],
   "source": [
    "listb = ['aa', 'bb', 'dd', 'aa', 'ff', 'ww', 'hh', 'aa', 'ff', 'yy', 'aa']"
   ]
  },
  {
   "cell_type": "code",
   "execution_count": 9,
   "metadata": {},
   "outputs": [
    {
     "name": "stdout",
     "output_type": "stream",
     "text": [
      "i = 0\n",
      "i = 1\n",
      "i = 2\n",
      "i = 3\n",
      "i = 4\n",
      "i = 5\n"
     ]
    }
   ],
   "source": [
    "for i in range(6):\n",
    "    print(\"i =\", i)"
   ]
  },
  {
   "cell_type": "code",
   "execution_count": 10,
   "metadata": {},
   "outputs": [
    {
     "name": "stdout",
     "output_type": "stream",
     "text": [
      "i = 2\n",
      "i = 3\n",
      "i = 4\n",
      "i = 5\n"
     ]
    }
   ],
   "source": [
    "for i in range(2, 6):\n",
    "    print(\"i =\", i)"
   ]
  },
  {
   "cell_type": "code",
   "execution_count": 11,
   "metadata": {},
   "outputs": [
    {
     "name": "stdout",
     "output_type": "stream",
     "text": [
      "i = 2\n",
      "i = 5\n",
      "i = 8\n",
      "i = 11\n",
      "i = 14\n"
     ]
    }
   ],
   "source": [
    "for i in range(2, 16, 3):\n",
    "    print(\"i =\", i)"
   ]
  },
  {
   "cell_type": "code",
   "execution_count": 12,
   "metadata": {},
   "outputs": [],
   "source": [
    "for i in range(6, 2):\n",
    "    print(\"i =\", i)"
   ]
  },
  {
   "cell_type": "code",
   "execution_count": 13,
   "metadata": {},
   "outputs": [
    {
     "name": "stdout",
     "output_type": "stream",
     "text": [
      "i = 6\n",
      "i = 5\n",
      "i = 4\n",
      "i = 3\n"
     ]
    }
   ],
   "source": [
    "for i in range(6, 2, -1):\n",
    "    print(\"i =\", i)"
   ]
  },
  {
   "cell_type": "code",
   "execution_count": 14,
   "metadata": {},
   "outputs": [
    {
     "data": {
      "text/plain": [
       "['aa', 'bb', 'dd', 'aa', 'ff', 'ww', 'hh', 'aa', 'ff', 'yy', 'aa']"
      ]
     },
     "execution_count": 14,
     "metadata": {},
     "output_type": "execute_result"
    }
   ],
   "source": [
    "listb"
   ]
  },
  {
   "cell_type": "code",
   "execution_count": 16,
   "metadata": {},
   "outputs": [
    {
     "name": "stdout",
     "output_type": "stream",
     "text": [
      "found\n",
      "found\n"
     ]
    }
   ],
   "source": [
    "for val in listb:\n",
    "    if val == 'ff':\n",
    "        print(\"found\")"
   ]
  },
  {
   "cell_type": "code",
   "execution_count": 17,
   "metadata": {},
   "outputs": [],
   "source": [
    "for val in listb:\n",
    "    if val == 'rr':\n",
    "        print(\"found\")"
   ]
  },
  {
   "cell_type": "code",
   "execution_count": 18,
   "metadata": {},
   "outputs": [
    {
     "name": "stdout",
     "output_type": "stream",
     "text": [
      "found\n"
     ]
    }
   ],
   "source": [
    "for val in listb:\n",
    "    if val == 'ff':\n",
    "        print(\"found\")\n",
    "        break"
   ]
  },
  {
   "cell_type": "code",
   "execution_count": 19,
   "metadata": {},
   "outputs": [],
   "source": [
    "for val in listb:\n",
    "    if val == 'rr':\n",
    "        print(\"found\")\n",
    "        break"
   ]
  },
  {
   "cell_type": "code",
   "execution_count": 20,
   "metadata": {},
   "outputs": [
    {
     "name": "stdout",
     "output_type": "stream",
     "text": [
      "not found\n",
      "not found\n",
      "not found\n",
      "not found\n",
      "not found\n",
      "not found\n",
      "not found\n",
      "not found\n",
      "not found\n",
      "not found\n",
      "not found\n"
     ]
    }
   ],
   "source": [
    "for val in listb:\n",
    "    if val == 'rr':\n",
    "        print(\"found\")\n",
    "        break\n",
    "    else:\n",
    "        print(\"not found\")"
   ]
  },
  {
   "cell_type": "code",
   "execution_count": 21,
   "metadata": {},
   "outputs": [
    {
     "name": "stdout",
     "output_type": "stream",
     "text": [
      "found\n"
     ]
    }
   ],
   "source": [
    "for val in listb:\n",
    "    if val == 'ff':\n",
    "        print(\"found\")\n",
    "        break\n",
    "else:\n",
    "    print(\"not found\") "
   ]
  },
  {
   "cell_type": "code",
   "execution_count": 22,
   "metadata": {},
   "outputs": [
    {
     "name": "stdout",
     "output_type": "stream",
     "text": [
      "not found\n"
     ]
    }
   ],
   "source": [
    "for val in listb:\n",
    "    if val == 'rr':\n",
    "        print(\"found\")\n",
    "        break\n",
    "else:\n",
    "    print(\"not found\") "
   ]
  },
  {
   "cell_type": "code",
   "execution_count": 23,
   "metadata": {},
   "outputs": [
    {
     "name": "stdout",
     "output_type": "stream",
     "text": [
      "not found\n"
     ]
    }
   ],
   "source": [
    "for val in listb:\n",
    "    if val == 'rr':\n",
    "        print(\"found\")\n",
    "else:\n",
    "    print(\"not found\") "
   ]
  },
  {
   "cell_type": "code",
   "execution_count": 24,
   "metadata": {},
   "outputs": [
    {
     "name": "stdout",
     "output_type": "stream",
     "text": [
      "found\n",
      "found\n",
      "not found\n"
     ]
    }
   ],
   "source": [
    "for val in listb:\n",
    "    if val == 'ff':\n",
    "        print(\"found\")\n",
    "else:\n",
    "    print(\"not found\") "
   ]
  },
  {
   "cell_type": "code",
   "execution_count": 25,
   "metadata": {},
   "outputs": [],
   "source": [
    "sa = {'chile':'santiago', 'colombia':'bogota', 'peru':'lima', 'venezuela':'caracas'}"
   ]
  },
  {
   "cell_type": "code",
   "execution_count": 26,
   "metadata": {},
   "outputs": [
    {
     "name": "stdout",
     "output_type": "stream",
     "text": [
      "chile\n",
      "colombia\n",
      "peru\n",
      "venezuela\n"
     ]
    }
   ],
   "source": [
    "for x in sa:\n",
    "    print(x)"
   ]
  },
  {
   "cell_type": "code",
   "execution_count": 27,
   "metadata": {},
   "outputs": [
    {
     "name": "stdout",
     "output_type": "stream",
     "text": [
      "santiago\n",
      "bogota\n",
      "lima\n",
      "caracas\n"
     ]
    }
   ],
   "source": [
    "for x in sa.values():\n",
    "    print(x)"
   ]
  },
  {
   "cell_type": "code",
   "execution_count": 28,
   "metadata": {},
   "outputs": [
    {
     "name": "stdout",
     "output_type": "stream",
     "text": [
      "k = chile\n",
      "v = santiago\n",
      "------\n",
      "k = colombia\n",
      "v = bogota\n",
      "------\n",
      "k = peru\n",
      "v = lima\n",
      "------\n",
      "k = venezuela\n",
      "v = caracas\n",
      "------\n"
     ]
    }
   ],
   "source": [
    "for k, v in sa.items():\n",
    "    print(\"k =\", k)\n",
    "    print(\"v =\", v)\n",
    "    print(\"------\")"
   ]
  },
  {
   "cell_type": "code",
   "execution_count": 29,
   "metadata": {},
   "outputs": [
    {
     "name": "stdout",
     "output_type": "stream",
     "text": [
      "k = ('chile', 'santiago')\n",
      "------\n",
      "k = ('colombia', 'bogota')\n",
      "------\n",
      "k = ('peru', 'lima')\n",
      "------\n",
      "k = ('venezuela', 'caracas')\n",
      "------\n"
     ]
    }
   ],
   "source": [
    "for k in sa.items():\n",
    "    print(\"k =\", k)\n",
    "    print(\"------\")"
   ]
  },
  {
   "cell_type": "code",
   "execution_count": 30,
   "metadata": {},
   "outputs": [
    {
     "data": {
      "text/plain": [
       "['aa', 'bb', 'dd', 'aa', 'ff', 'ww', 'hh', 'aa', 'ff', 'yy', 'aa']"
      ]
     },
     "execution_count": 30,
     "metadata": {},
     "output_type": "execute_result"
    }
   ],
   "source": [
    "listb"
   ]
  },
  {
   "cell_type": "code",
   "execution_count": 32,
   "metadata": {},
   "outputs": [
    {
     "name": "stdout",
     "output_type": "stream",
     "text": [
      "val = aa\n",
      "val = bb\n",
      "val = dd\n",
      "val = aa\n"
     ]
    }
   ],
   "source": [
    "count = 0\n",
    "\n",
    "for val in listb:\n",
    "    print(\"val =\", val)\n",
    "    if val == 'aa':\n",
    "        count = count + 1\n",
    "        if count == 2:\n",
    "            break"
   ]
  },
  {
   "cell_type": "code",
   "execution_count": null,
   "metadata": {},
   "outputs": [],
   "source": []
  }
 ],
 "metadata": {
  "kernelspec": {
   "display_name": "Python 3",
   "language": "python",
   "name": "python3"
  },
  "language_info": {
   "codemirror_mode": {
    "name": "ipython",
    "version": 3
   },
   "file_extension": ".py",
   "mimetype": "text/x-python",
   "name": "python",
   "nbconvert_exporter": "python",
   "pygments_lexer": "ipython3",
   "version": "3.7.7"
  }
 },
 "nbformat": 4,
 "nbformat_minor": 4
}
