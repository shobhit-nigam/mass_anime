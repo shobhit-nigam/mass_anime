{
 "cells": [
  {
   "cell_type": "code",
   "execution_count": 1,
   "metadata": {},
   "outputs": [],
   "source": [
    "lista = ['aa', 'gg', 'ff', 'rr', 'cc']"
   ]
  },
  {
   "cell_type": "code",
   "execution_count": 2,
   "metadata": {},
   "outputs": [
    {
     "name": "stdout",
     "output_type": "stream",
     "text": [
      "3\n",
      "rr\n"
     ]
    }
   ],
   "source": [
    "i = int(input())\n",
    "\n",
    "print(lista[i])"
   ]
  },
  {
   "cell_type": "code",
   "execution_count": 3,
   "metadata": {},
   "outputs": [
    {
     "name": "stdout",
     "output_type": "stream",
     "text": [
      "9\n"
     ]
    },
    {
     "ename": "IndexError",
     "evalue": "list index out of range",
     "output_type": "error",
     "traceback": [
      "\u001b[0;31m---------------------------------------------------------------------------\u001b[0m",
      "\u001b[0;31mIndexError\u001b[0m                                Traceback (most recent call last)",
      "\u001b[0;32m<ipython-input-3-ad5493725150>\u001b[0m in \u001b[0;36m<module>\u001b[0;34m\u001b[0m\n\u001b[1;32m      1\u001b[0m \u001b[0mi\u001b[0m \u001b[0;34m=\u001b[0m \u001b[0mint\u001b[0m\u001b[0;34m(\u001b[0m\u001b[0minput\u001b[0m\u001b[0;34m(\u001b[0m\u001b[0;34m)\u001b[0m\u001b[0;34m)\u001b[0m\u001b[0;34m\u001b[0m\u001b[0;34m\u001b[0m\u001b[0m\n\u001b[1;32m      2\u001b[0m \u001b[0;34m\u001b[0m\u001b[0m\n\u001b[0;32m----> 3\u001b[0;31m \u001b[0mprint\u001b[0m\u001b[0;34m(\u001b[0m\u001b[0mlista\u001b[0m\u001b[0;34m[\u001b[0m\u001b[0mi\u001b[0m\u001b[0;34m]\u001b[0m\u001b[0;34m)\u001b[0m\u001b[0;34m\u001b[0m\u001b[0;34m\u001b[0m\u001b[0m\n\u001b[0m",
      "\u001b[0;31mIndexError\u001b[0m: list index out of range"
     ]
    }
   ],
   "source": [
    "i = int(input())\n",
    "\n",
    "print(lista[i]) "
   ]
  },
  {
   "cell_type": "code",
   "execution_count": 4,
   "metadata": {},
   "outputs": [
    {
     "name": "stdout",
     "output_type": "stream",
     "text": [
      "2\n",
      "ff\n"
     ]
    }
   ],
   "source": [
    "try:\n",
    "    i = int(input())\n",
    "    print(lista[i]) \n",
    "except IndexError:\n",
    "    print(\"index is too high, resetting it to zero\")\n",
    "    print(lista[0])"
   ]
  },
  {
   "cell_type": "code",
   "execution_count": 5,
   "metadata": {},
   "outputs": [
    {
     "name": "stdout",
     "output_type": "stream",
     "text": [
      "9\n",
      "index is too high, resetting it to zero\n",
      "aa\n"
     ]
    }
   ],
   "source": [
    "try:\n",
    "    i = int(input())\n",
    "    print(lista[i]) \n",
    "except IndexError:\n",
    "    print(\"index is too high, resetting it to zero\")\n",
    "    print(lista[0])\n",
    "    \n",
    "# code continues"
   ]
  },
  {
   "cell_type": "code",
   "execution_count": 6,
   "metadata": {},
   "outputs": [
    {
     "name": "stdout",
     "output_type": "stream",
     "text": [
      "2.3\n"
     ]
    },
    {
     "ename": "ValueError",
     "evalue": "invalid literal for int() with base 10: '2.3'",
     "output_type": "error",
     "traceback": [
      "\u001b[0;31m---------------------------------------------------------------------------\u001b[0m",
      "\u001b[0;31mValueError\u001b[0m                                Traceback (most recent call last)",
      "\u001b[0;32m<ipython-input-6-42203be56aa7>\u001b[0m in \u001b[0;36m<module>\u001b[0;34m\u001b[0m\n\u001b[1;32m      1\u001b[0m \u001b[0;32mtry\u001b[0m\u001b[0;34m:\u001b[0m\u001b[0;34m\u001b[0m\u001b[0;34m\u001b[0m\u001b[0m\n\u001b[0;32m----> 2\u001b[0;31m     \u001b[0mi\u001b[0m \u001b[0;34m=\u001b[0m \u001b[0mint\u001b[0m\u001b[0;34m(\u001b[0m\u001b[0minput\u001b[0m\u001b[0;34m(\u001b[0m\u001b[0;34m)\u001b[0m\u001b[0;34m)\u001b[0m\u001b[0;34m\u001b[0m\u001b[0;34m\u001b[0m\u001b[0m\n\u001b[0m\u001b[1;32m      3\u001b[0m     \u001b[0mprint\u001b[0m\u001b[0;34m(\u001b[0m\u001b[0mlista\u001b[0m\u001b[0;34m[\u001b[0m\u001b[0mi\u001b[0m\u001b[0;34m]\u001b[0m\u001b[0;34m)\u001b[0m\u001b[0;34m\u001b[0m\u001b[0;34m\u001b[0m\u001b[0m\n\u001b[1;32m      4\u001b[0m \u001b[0;32mexcept\u001b[0m \u001b[0mIndexError\u001b[0m\u001b[0;34m:\u001b[0m\u001b[0;34m\u001b[0m\u001b[0;34m\u001b[0m\u001b[0m\n\u001b[1;32m      5\u001b[0m     \u001b[0mprint\u001b[0m\u001b[0;34m(\u001b[0m\u001b[0;34m\"index is too high, resetting it to zero\"\u001b[0m\u001b[0;34m)\u001b[0m\u001b[0;34m\u001b[0m\u001b[0;34m\u001b[0m\u001b[0m\n",
      "\u001b[0;31mValueError\u001b[0m: invalid literal for int() with base 10: '2.3'"
     ]
    }
   ],
   "source": [
    "try:\n",
    "    i = int(input())\n",
    "    print(lista[i]) \n",
    "except IndexError:\n",
    "    print(\"index is too high, resetting it to zero\")\n",
    "    print(lista[0])\n",
    "    \n",
    "    \n",
    "print(\"code continues\")"
   ]
  },
  {
   "cell_type": "code",
   "execution_count": 8,
   "metadata": {},
   "outputs": [
    {
     "name": "stdout",
     "output_type": "stream",
     "text": [
      "2.4\n",
      "you have not entered an integer for index\n",
      "resetting it to zero\n",
      "aa\n",
      "code continues\n"
     ]
    }
   ],
   "source": [
    "try:\n",
    "    i = int(input())\n",
    "    print(lista[i]) \n",
    "except IndexError:\n",
    "    print(\"index is too high, resetting it to zero\")\n",
    "    print(lista[0])\n",
    "except ValueError:\n",
    "    print(\"you have not entered an integer for index\")\n",
    "    print(\"resetting it to zero\")\n",
    "    print(lista[0])\n",
    "    \n",
    "print(\"code continues\")"
   ]
  },
  {
   "cell_type": "code",
   "execution_count": 9,
   "metadata": {},
   "outputs": [
    {
     "name": "stdout",
     "output_type": "stream",
     "text": [
      "2\n"
     ]
    },
    {
     "ename": "NameError",
     "evalue": "name 'listb' is not defined",
     "output_type": "error",
     "traceback": [
      "\u001b[0;31m---------------------------------------------------------------------------\u001b[0m",
      "\u001b[0;31mNameError\u001b[0m                                 Traceback (most recent call last)",
      "\u001b[0;32m<ipython-input-9-1d2288b3f7ee>\u001b[0m in \u001b[0;36m<module>\u001b[0;34m\u001b[0m\n\u001b[1;32m      1\u001b[0m \u001b[0;32mtry\u001b[0m\u001b[0;34m:\u001b[0m\u001b[0;34m\u001b[0m\u001b[0;34m\u001b[0m\u001b[0m\n\u001b[1;32m      2\u001b[0m     \u001b[0mi\u001b[0m \u001b[0;34m=\u001b[0m \u001b[0mint\u001b[0m\u001b[0;34m(\u001b[0m\u001b[0minput\u001b[0m\u001b[0;34m(\u001b[0m\u001b[0;34m)\u001b[0m\u001b[0;34m)\u001b[0m\u001b[0;34m\u001b[0m\u001b[0;34m\u001b[0m\u001b[0m\n\u001b[0;32m----> 3\u001b[0;31m     \u001b[0mprint\u001b[0m\u001b[0;34m(\u001b[0m\u001b[0mlistb\u001b[0m\u001b[0;34m[\u001b[0m\u001b[0mi\u001b[0m\u001b[0;34m]\u001b[0m\u001b[0;34m)\u001b[0m\u001b[0;34m\u001b[0m\u001b[0;34m\u001b[0m\u001b[0m\n\u001b[0m\u001b[1;32m      4\u001b[0m \u001b[0;32mexcept\u001b[0m \u001b[0mIndexError\u001b[0m\u001b[0;34m:\u001b[0m\u001b[0;34m\u001b[0m\u001b[0;34m\u001b[0m\u001b[0m\n\u001b[1;32m      5\u001b[0m     \u001b[0mprint\u001b[0m\u001b[0;34m(\u001b[0m\u001b[0;34m\"index is too high, resetting it to zero\"\u001b[0m\u001b[0;34m)\u001b[0m\u001b[0;34m\u001b[0m\u001b[0;34m\u001b[0m\u001b[0m\n",
      "\u001b[0;31mNameError\u001b[0m: name 'listb' is not defined"
     ]
    }
   ],
   "source": [
    "try:\n",
    "    i = int(input())\n",
    "    print(listb[i]) \n",
    "except IndexError:\n",
    "    print(\"index is too high, resetting it to zero\")\n",
    "    print(lista[0])\n",
    "except ValueError:\n",
    "    print(\"you have not entered an integer for index\")\n",
    "    print(\"resetting it to zero\")\n",
    "    print(lista[0])\n",
    "    \n",
    "print(\"code continues\")"
   ]
  },
  {
   "cell_type": "code",
   "execution_count": 10,
   "metadata": {},
   "outputs": [
    {
     "name": "stdout",
     "output_type": "stream",
     "text": [
      "2\n",
      "something went wrong\n",
      "code continues\n"
     ]
    }
   ],
   "source": [
    "try:\n",
    "    i = int(input())\n",
    "    print(listb[i]) \n",
    "except IndexError:\n",
    "    print(\"index is too high, resetting it to zero\")\n",
    "    print(lista[0])\n",
    "except ValueError:\n",
    "    print(\"you have not entered an integer for index\")\n",
    "    print(\"resetting it to zero\")\n",
    "    print(lista[0])\n",
    "except:\n",
    "    print(\"something went wrong\")\n",
    "    \n",
    "print(\"code continues\")"
   ]
  },
  {
   "cell_type": "code",
   "execution_count": 12,
   "metadata": {},
   "outputs": [
    {
     "ename": "IndentationError",
     "evalue": "unindent does not match any outer indentation level (<tokenize>, line 3)",
     "output_type": "error",
     "traceback": [
      "\u001b[0;36m  File \u001b[0;32m\"<tokenize>\"\u001b[0;36m, line \u001b[0;32m3\u001b[0m\n\u001b[0;31m    print(\"hello\")\u001b[0m\n\u001b[0m    ^\u001b[0m\n\u001b[0;31mIndentationError\u001b[0m\u001b[0;31m:\u001b[0m unindent does not match any outer indentation level\n"
     ]
    }
   ],
   "source": [
    "def funca():\n",
    "    print(\"hi\")\n",
    "   print(\"hello\")"
   ]
  },
  {
   "cell_type": "code",
   "execution_count": 13,
   "metadata": {},
   "outputs": [
    {
     "ename": "SyntaxError",
     "evalue": "default 'except:' must be last (<ipython-input-13-32714e3a7d3a>, line 6)",
     "output_type": "error",
     "traceback": [
      "\u001b[0;36m  File \u001b[0;32m\"<ipython-input-13-32714e3a7d3a>\"\u001b[0;36m, line \u001b[0;32m6\u001b[0m\n\u001b[0;31m    except IndexError:\u001b[0m\n\u001b[0m                      \n^\u001b[0m\n\u001b[0;31mSyntaxError\u001b[0m\u001b[0;31m:\u001b[0m default 'except:' must be last\n"
     ]
    }
   ],
   "source": [
    "try:\n",
    "    i = int(input())\n",
    "    print(listb[i])\n",
    "except:\n",
    "    print(\"something went wrong\")\n",
    "except IndexError:\n",
    "    print(\"index is too high, resetting it to zero\")\n",
    "    print(lista[0])\n",
    "except ValueError:\n",
    "    print(\"you have not entered an integer for index\")\n",
    "    print(\"resetting it to zero\")\n",
    "    print(lista[0])\n",
    "\n",
    "print(\"code continues\")"
   ]
  },
  {
   "cell_type": "code",
   "execution_count": 14,
   "metadata": {},
   "outputs": [
    {
     "name": "stdout",
     "output_type": "stream",
     "text": [
      "9\n",
      "index is too high, resetting it to zero\n",
      "aa\n",
      "code continues\n"
     ]
    }
   ],
   "source": [
    "try:\n",
    "    try:\n",
    "        i = int(input())\n",
    "        print(lista[i])\n",
    "    except IndexError:\n",
    "        print(\"index is too high, resetting it to zero\")\n",
    "        print(lista[0])\n",
    "except ValueError:\n",
    "    print(\"you have not entered an integer for index\")\n",
    "    print(\"resetting it to zero\")\n",
    "    print(lista[0])\n",
    "except:\n",
    "    print(\"something went wrong\")\n",
    "\n",
    "print(\"code continues\")"
   ]
  },
  {
   "cell_type": "code",
   "execution_count": 15,
   "metadata": {},
   "outputs": [
    {
     "name": "stdout",
     "output_type": "stream",
     "text": [
      "2.3\n",
      "you have not entered an integer for index\n",
      "resetting it to zero\n",
      "aa\n",
      "code continues\n"
     ]
    }
   ],
   "source": [
    "try:\n",
    "    try:\n",
    "        i = int(input())\n",
    "        print(lista[i])\n",
    "    except IndexError:\n",
    "        print(\"index is too high, resetting it to zero\")\n",
    "        print(lista[0])\n",
    "except ValueError:\n",
    "    print(\"you have not entered an integer for index\")\n",
    "    print(\"resetting it to zero\")\n",
    "    print(lista[0])\n",
    "except:\n",
    "    print(\"something went wrong\")\n",
    "\n",
    "print(\"code continues\")"
   ]
  },
  {
   "cell_type": "code",
   "execution_count": 16,
   "metadata": {},
   "outputs": [
    {
     "name": "stdout",
     "output_type": "stream",
     "text": [
      "9\n",
      "index is too high, resetting it to zero\n",
      "aa\n",
      "finally block executed\n",
      "code continues\n"
     ]
    }
   ],
   "source": [
    "try:\n",
    "    i = int(input())\n",
    "    print(lista[i])\n",
    "except IndexError:\n",
    "    print(\"index is too high, resetting it to zero\")\n",
    "    print(lista[0])\n",
    "except ValueError:\n",
    "    print(\"you have not entered an integer for index\")\n",
    "    print(\"resetting it to zero\")\n",
    "    print(lista[0])\n",
    "else:\n",
    "    print(\"else block executed\")\n",
    "finally:\n",
    "    print(\"finally block executed\")\n",
    "\n",
    "print(\"code continues\")"
   ]
  },
  {
   "cell_type": "code",
   "execution_count": 17,
   "metadata": {},
   "outputs": [
    {
     "name": "stdout",
     "output_type": "stream",
     "text": [
      "3\n",
      "rr\n",
      "else block executed\n",
      "finally block executed\n",
      "code continues\n"
     ]
    }
   ],
   "source": [
    "try:\n",
    "    i = int(input())\n",
    "    print(lista[i])\n",
    "except IndexError:\n",
    "    print(\"index is too high, resetting it to zero\")\n",
    "    print(lista[0])\n",
    "except ValueError:\n",
    "    print(\"you have not entered an integer for index\")\n",
    "    print(\"resetting it to zero\")\n",
    "    print(lista[0])\n",
    "else:\n",
    "    print(\"else block executed\")\n",
    "finally:\n",
    "    print(\"finally block executed\")\n",
    "\n",
    "print(\"code continues\")"
   ]
  },
  {
   "cell_type": "code",
   "execution_count": 18,
   "metadata": {},
   "outputs": [
    {
     "name": "stdout",
     "output_type": "stream",
     "text": [
      "2\n",
      "finally block executed\n"
     ]
    },
    {
     "ename": "NameError",
     "evalue": "name 'listb' is not defined",
     "output_type": "error",
     "traceback": [
      "\u001b[0;31m---------------------------------------------------------------------------\u001b[0m",
      "\u001b[0;31mNameError\u001b[0m                                 Traceback (most recent call last)",
      "\u001b[0;32m<ipython-input-18-64a0fcfbfa95>\u001b[0m in \u001b[0;36m<module>\u001b[0;34m\u001b[0m\n\u001b[1;32m      1\u001b[0m \u001b[0;32mtry\u001b[0m\u001b[0;34m:\u001b[0m\u001b[0;34m\u001b[0m\u001b[0;34m\u001b[0m\u001b[0m\n\u001b[1;32m      2\u001b[0m     \u001b[0mi\u001b[0m \u001b[0;34m=\u001b[0m \u001b[0mint\u001b[0m\u001b[0;34m(\u001b[0m\u001b[0minput\u001b[0m\u001b[0;34m(\u001b[0m\u001b[0;34m)\u001b[0m\u001b[0;34m)\u001b[0m\u001b[0;34m\u001b[0m\u001b[0;34m\u001b[0m\u001b[0m\n\u001b[0;32m----> 3\u001b[0;31m     \u001b[0mprint\u001b[0m\u001b[0;34m(\u001b[0m\u001b[0mlistb\u001b[0m\u001b[0;34m[\u001b[0m\u001b[0mi\u001b[0m\u001b[0;34m]\u001b[0m\u001b[0;34m)\u001b[0m\u001b[0;34m\u001b[0m\u001b[0;34m\u001b[0m\u001b[0m\n\u001b[0m\u001b[1;32m      4\u001b[0m \u001b[0;32mexcept\u001b[0m \u001b[0mIndexError\u001b[0m\u001b[0;34m:\u001b[0m\u001b[0;34m\u001b[0m\u001b[0;34m\u001b[0m\u001b[0m\n\u001b[1;32m      5\u001b[0m     \u001b[0mprint\u001b[0m\u001b[0;34m(\u001b[0m\u001b[0;34m\"index is too high, resetting it to zero\"\u001b[0m\u001b[0;34m)\u001b[0m\u001b[0;34m\u001b[0m\u001b[0;34m\u001b[0m\u001b[0m\n",
      "\u001b[0;31mNameError\u001b[0m: name 'listb' is not defined"
     ]
    }
   ],
   "source": [
    "try:\n",
    "    i = int(input())\n",
    "    print(listb[i])\n",
    "except IndexError:\n",
    "    print(\"index is too high, resetting it to zero\")\n",
    "    print(lista[0])\n",
    "except ValueError:\n",
    "    print(\"you have not entered an integer for index\")\n",
    "    print(\"resetting it to zero\")\n",
    "    print(lista[0])\n",
    "else:\n",
    "    print(\"else block executed\")\n",
    "finally:\n",
    "    print(\"finally block executed\")\n",
    "\n",
    "print(\"code continues\")"
   ]
  },
  {
   "cell_type": "code",
   "execution_count": null,
   "metadata": {},
   "outputs": [],
   "source": []
  }
 ],
 "metadata": {
  "kernelspec": {
   "display_name": "Python 3",
   "language": "python",
   "name": "python3"
  },
  "language_info": {
   "codemirror_mode": {
    "name": "ipython",
    "version": 3
   },
   "file_extension": ".py",
   "mimetype": "text/x-python",
   "name": "python",
   "nbconvert_exporter": "python",
   "pygments_lexer": "ipython3",
   "version": "3.7.7"
  }
 },
 "nbformat": 4,
 "nbformat_minor": 4
}
