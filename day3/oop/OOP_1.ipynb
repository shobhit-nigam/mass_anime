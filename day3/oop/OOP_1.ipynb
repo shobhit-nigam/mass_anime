{
 "cells": [
  {
   "cell_type": "code",
   "execution_count": 1,
   "metadata": {},
   "outputs": [],
   "source": [
    "class sample:\n",
    "    ia = 30\n",
    "    ib = 40\n",
    "    \n",
    "    def some_method():\n",
    "        print(\"hello\")"
   ]
  },
  {
   "cell_type": "code",
   "execution_count": 2,
   "metadata": {},
   "outputs": [],
   "source": [
    "obja = sample()"
   ]
  },
  {
   "cell_type": "code",
   "execution_count": 3,
   "metadata": {},
   "outputs": [
    {
     "data": {
      "text/plain": [
       "70"
      ]
     },
     "execution_count": 3,
     "metadata": {},
     "output_type": "execute_result"
    }
   ],
   "source": [
    "obja.ia + obja.ib"
   ]
  },
  {
   "cell_type": "code",
   "execution_count": 7,
   "metadata": {},
   "outputs": [],
   "source": [
    "class sample:\n",
    "    ia = 30\n",
    "    ib = 40\n",
    "    \n",
    "    def some_method():\n",
    "        print(\"hello\")\n",
    "        \n",
    "obja = sample()"
   ]
  },
  {
   "cell_type": "code",
   "execution_count": 5,
   "metadata": {},
   "outputs": [
    {
     "data": {
      "text/plain": [
       "30"
      ]
     },
     "execution_count": 5,
     "metadata": {},
     "output_type": "execute_result"
    }
   ],
   "source": [
    "obja.ia"
   ]
  },
  {
   "cell_type": "code",
   "execution_count": 8,
   "metadata": {},
   "outputs": [
    {
     "ename": "TypeError",
     "evalue": "some_method() takes 0 positional arguments but 1 was given",
     "output_type": "error",
     "traceback": [
      "\u001b[0;31m---------------------------------------------------------------------------\u001b[0m",
      "\u001b[0;31mTypeError\u001b[0m                                 Traceback (most recent call last)",
      "\u001b[0;32m<ipython-input-8-124a6d50d7ee>\u001b[0m in \u001b[0;36m<module>\u001b[0;34m\u001b[0m\n\u001b[0;32m----> 1\u001b[0;31m \u001b[0mobja\u001b[0m\u001b[0;34m.\u001b[0m\u001b[0msome_method\u001b[0m\u001b[0;34m(\u001b[0m\u001b[0;34m)\u001b[0m\u001b[0;34m\u001b[0m\u001b[0;34m\u001b[0m\u001b[0m\n\u001b[0m\u001b[1;32m      2\u001b[0m \u001b[0;34m\u001b[0m\u001b[0m\n\u001b[1;32m      3\u001b[0m \u001b[0;31m#  obja.some_method() --> sample.some_method(obja)\u001b[0m\u001b[0;34m\u001b[0m\u001b[0;34m\u001b[0m\u001b[0;34m\u001b[0m\u001b[0m\n",
      "\u001b[0;31mTypeError\u001b[0m: some_method() takes 0 positional arguments but 1 was given"
     ]
    }
   ],
   "source": [
    "obja.some_method()\n",
    "\n",
    "#  obja.some_method() --> sample.some_method(obja)  "
   ]
  },
  {
   "cell_type": "code",
   "execution_count": 13,
   "metadata": {},
   "outputs": [],
   "source": [
    "class sample:\n",
    "    ia = 30\n",
    "    ib = 40\n",
    "    \n",
    "    def some_method(self):\n",
    "        print(\"hello\")\n",
    "        \n",
    "obja = sample()"
   ]
  },
  {
   "cell_type": "code",
   "execution_count": 14,
   "metadata": {},
   "outputs": [
    {
     "name": "stdout",
     "output_type": "stream",
     "text": [
      "hello\n"
     ]
    }
   ],
   "source": [
    "obja.some_method()"
   ]
  },
  {
   "cell_type": "code",
   "execution_count": 15,
   "metadata": {},
   "outputs": [],
   "source": [
    "class bank:\n",
    "    cid = 0\n",
    "    opb = 0\n",
    "    curb = 0\n",
    "    name = None\n",
    "    \n",
    "    def update(self, i, o, n):\n",
    "        self.cid = i\n",
    "        self.opb = o\n",
    "        self.curb = o\n",
    "        self.name = n\n",
    "        \n",
    "    def display(self):\n",
    "        print(f\"welcome {self.name}\")\n",
    "        print(f\"your account balance is {self.curb}\")"
   ]
  },
  {
   "cell_type": "code",
   "execution_count": 16,
   "metadata": {},
   "outputs": [],
   "source": [
    "obja = bank()\n",
    "objb = bank()"
   ]
  },
  {
   "cell_type": "code",
   "execution_count": 17,
   "metadata": {},
   "outputs": [
    {
     "data": {
      "text/plain": [
       "0"
      ]
     },
     "execution_count": 17,
     "metadata": {},
     "output_type": "execute_result"
    }
   ],
   "source": [
    "obja.opb"
   ]
  },
  {
   "cell_type": "code",
   "execution_count": 18,
   "metadata": {},
   "outputs": [],
   "source": [
    "obja.update(248002, 500, \"ahmed\")\n",
    "objb.update(248004, 1000, \"ravi\")"
   ]
  },
  {
   "cell_type": "code",
   "execution_count": 20,
   "metadata": {},
   "outputs": [
    {
     "name": "stdout",
     "output_type": "stream",
     "text": [
      "welcome ahmed\n",
      "your account balance is 500\n"
     ]
    }
   ],
   "source": [
    "obja.display()"
   ]
  },
  {
   "cell_type": "code",
   "execution_count": 21,
   "metadata": {},
   "outputs": [],
   "source": [
    "class sample:\n",
    "    ia = 30\n",
    "    ib = 40\n",
    "    \n",
    "    def __init__(self):\n",
    "        print(\"hello from init\")\n",
    "    \n",
    "    def some_method():\n",
    "        print(\"hello\")\n",
    "        "
   ]
  },
  {
   "cell_type": "code",
   "execution_count": 22,
   "metadata": {},
   "outputs": [
    {
     "name": "stdout",
     "output_type": "stream",
     "text": [
      "hello from init\n"
     ]
    }
   ],
   "source": [
    "obja = sample()"
   ]
  },
  {
   "cell_type": "code",
   "execution_count": 23,
   "metadata": {},
   "outputs": [
    {
     "name": "stdout",
     "output_type": "stream",
     "text": [
      "hello from init\n"
     ]
    }
   ],
   "source": [
    "obja.__init__()"
   ]
  },
  {
   "cell_type": "code",
   "execution_count": 24,
   "metadata": {},
   "outputs": [
    {
     "name": "stdout",
     "output_type": "stream",
     "text": [
      "hello from init\n"
     ]
    }
   ],
   "source": [
    "objb = sample()"
   ]
  },
  {
   "cell_type": "code",
   "execution_count": 27,
   "metadata": {},
   "outputs": [],
   "source": [
    "class bank:\n",
    "    \n",
    "    def __init__(self, i, o, n):\n",
    "        self.cid = i\n",
    "        self.opb = o\n",
    "        self.curb = o\n",
    "        self.name = n\n",
    "        \n",
    "    def display(self):\n",
    "        print(f\"welcome {self.name}\")\n",
    "        print(f\"your account balance is {self.curb}\")"
   ]
  },
  {
   "cell_type": "code",
   "execution_count": 28,
   "metadata": {},
   "outputs": [],
   "source": [
    "obja = bank(248002, 500, \"ahmed\")\n",
    "objb = bank(248004, 1000, \"ravi\")"
   ]
  },
  {
   "cell_type": "code",
   "execution_count": 29,
   "metadata": {},
   "outputs": [
    {
     "name": "stdout",
     "output_type": "stream",
     "text": [
      "welcome ravi\n",
      "your account balance is 1000\n"
     ]
    }
   ],
   "source": [
    "objb.display()"
   ]
  },
  {
   "cell_type": "code",
   "execution_count": 30,
   "metadata": {},
   "outputs": [],
   "source": [
    "class bank:\n",
    "    \n",
    "    def __init__(self, i, o, n):\n",
    "        self.cid = i\n",
    "        self.opb = o\n",
    "        self.curb = o\n",
    "        self.name = n\n",
    "        \n",
    "    def display(self):\n",
    "        print(f\"welcome {self.name}\")\n",
    "        print(f\"your account balance is {self.curb}\")\n",
    "        \n",
    "    def deposit(self, amt):\n",
    "        self.curb = self.curb + amt\n",
    "        print(f\"account updated, thank you {self.name}\")\n",
    "        \n",
    "    def withdraw(self, amt):\n",
    "        if self.curb < amt:\n",
    "            print(\"insufficient balance\")\n",
    "        else:\n",
    "            self.curb = self.curb - amt\n",
    "            print(f\"account updated, thank you {self.name}\")"
   ]
  },
  {
   "cell_type": "code",
   "execution_count": 31,
   "metadata": {},
   "outputs": [],
   "source": [
    "obja = bank(248002, 500, \"ahmed\")\n",
    "objb = bank(248004, 1000, \"ravi\")"
   ]
  },
  {
   "cell_type": "code",
   "execution_count": 32,
   "metadata": {},
   "outputs": [
    {
     "name": "stdout",
     "output_type": "stream",
     "text": [
      "insufficient balance\n"
     ]
    }
   ],
   "source": [
    "obja.withdraw(700)"
   ]
  },
  {
   "cell_type": "code",
   "execution_count": 33,
   "metadata": {},
   "outputs": [
    {
     "name": "stdout",
     "output_type": "stream",
     "text": [
      "account updated, thank you ahmed\n"
     ]
    }
   ],
   "source": [
    "obja.deposit(1000)"
   ]
  },
  {
   "cell_type": "code",
   "execution_count": 34,
   "metadata": {},
   "outputs": [
    {
     "name": "stdout",
     "output_type": "stream",
     "text": [
      "account updated, thank you ahmed\n"
     ]
    }
   ],
   "source": [
    "obja.withdraw(700)"
   ]
  },
  {
   "cell_type": "code",
   "execution_count": 35,
   "metadata": {},
   "outputs": [
    {
     "name": "stdout",
     "output_type": "stream",
     "text": [
      "welcome ahmed\n",
      "your account balance is 800\n"
     ]
    }
   ],
   "source": [
    "obja.display()"
   ]
  },
  {
   "cell_type": "code",
   "execution_count": null,
   "metadata": {},
   "outputs": [],
   "source": []
  }
 ],
 "metadata": {
  "kernelspec": {
   "display_name": "Python 3",
   "language": "python",
   "name": "python3"
  },
  "language_info": {
   "codemirror_mode": {
    "name": "ipython",
    "version": 3
   },
   "file_extension": ".py",
   "mimetype": "text/x-python",
   "name": "python",
   "nbconvert_exporter": "python",
   "pygments_lexer": "ipython3",
   "version": "3.7.7"
  }
 },
 "nbformat": 4,
 "nbformat_minor": 4
}
