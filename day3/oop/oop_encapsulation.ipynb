{
 "cells": [
  {
   "cell_type": "code",
   "execution_count": 1,
   "metadata": {},
   "outputs": [],
   "source": [
    "class sample:\n",
    "    data = 100\n",
    "    _datb = 150\n",
    "    __datc = 200\n",
    "    __datd__ = 250\n",
    "    \n",
    "    def display(self):\n",
    "        print(\"data =\", self.data)\n",
    "        print(\"_datb =\", self._datb)\n",
    "        print(\"__datc =\", self.__datc)\n",
    "        print(\"__datd__ =\", self.__datd__)"
   ]
  },
  {
   "cell_type": "code",
   "execution_count": 2,
   "metadata": {},
   "outputs": [],
   "source": [
    "obja = sample()"
   ]
  },
  {
   "cell_type": "code",
   "execution_count": 3,
   "metadata": {},
   "outputs": [
    {
     "name": "stdout",
     "output_type": "stream",
     "text": [
      "data = 100\n",
      "_datb = 150\n"
     ]
    },
    {
     "ename": "AttributeError",
     "evalue": "'sample' object has no attribute '__datc'",
     "output_type": "error",
     "traceback": [
      "\u001b[0;31m---------------------------------------------------------------------------\u001b[0m",
      "\u001b[0;31mAttributeError\u001b[0m                            Traceback (most recent call last)",
      "\u001b[0;32m<ipython-input-3-9cafafea07c9>\u001b[0m in \u001b[0;36m<module>\u001b[0;34m\u001b[0m\n\u001b[1;32m      1\u001b[0m \u001b[0mprint\u001b[0m\u001b[0;34m(\u001b[0m\u001b[0;34m\"data =\"\u001b[0m\u001b[0;34m,\u001b[0m \u001b[0mobja\u001b[0m\u001b[0;34m.\u001b[0m\u001b[0mdata\u001b[0m\u001b[0;34m)\u001b[0m\u001b[0;34m\u001b[0m\u001b[0;34m\u001b[0m\u001b[0m\n\u001b[1;32m      2\u001b[0m \u001b[0mprint\u001b[0m\u001b[0;34m(\u001b[0m\u001b[0;34m\"_datb =\"\u001b[0m\u001b[0;34m,\u001b[0m \u001b[0mobja\u001b[0m\u001b[0;34m.\u001b[0m\u001b[0m_datb\u001b[0m\u001b[0;34m)\u001b[0m\u001b[0;34m\u001b[0m\u001b[0;34m\u001b[0m\u001b[0m\n\u001b[0;32m----> 3\u001b[0;31m \u001b[0mprint\u001b[0m\u001b[0;34m(\u001b[0m\u001b[0;34m\"__datc =\"\u001b[0m\u001b[0;34m,\u001b[0m \u001b[0mobja\u001b[0m\u001b[0;34m.\u001b[0m\u001b[0m__datc\u001b[0m\u001b[0;34m)\u001b[0m\u001b[0;34m\u001b[0m\u001b[0;34m\u001b[0m\u001b[0m\n\u001b[0m\u001b[1;32m      4\u001b[0m \u001b[0mprint\u001b[0m\u001b[0;34m(\u001b[0m\u001b[0;34m\"__datd__ =\"\u001b[0m\u001b[0;34m,\u001b[0m \u001b[0mobja\u001b[0m\u001b[0;34m.\u001b[0m\u001b[0m__datd__\u001b[0m\u001b[0;34m)\u001b[0m\u001b[0;34m\u001b[0m\u001b[0;34m\u001b[0m\u001b[0m\n",
      "\u001b[0;31mAttributeError\u001b[0m: 'sample' object has no attribute '__datc'"
     ]
    }
   ],
   "source": [
    "print(\"data =\", obja.data)\n",
    "print(\"_datb =\", obja._datb)\n",
    "print(\"__datc =\", obja.__datc)\n",
    "print(\"__datd__ =\", obja.__datd__)"
   ]
  },
  {
   "cell_type": "code",
   "execution_count": 4,
   "metadata": {},
   "outputs": [
    {
     "name": "stdout",
     "output_type": "stream",
     "text": [
      "__datd__ = 250\n"
     ]
    }
   ],
   "source": [
    "print(\"__datd__ =\", obja.__datd__)"
   ]
  },
  {
   "cell_type": "code",
   "execution_count": 5,
   "metadata": {},
   "outputs": [
    {
     "name": "stdout",
     "output_type": "stream",
     "text": [
      "data = 100\n",
      "_datb = 150\n",
      "__datc = 200\n",
      "__datd__ = 250\n"
     ]
    }
   ],
   "source": [
    "obja.display()"
   ]
  },
  {
   "cell_type": "code",
   "execution_count": null,
   "metadata": {},
   "outputs": [],
   "source": []
  }
 ],
 "metadata": {
  "kernelspec": {
   "display_name": "Python 3",
   "language": "python",
   "name": "python3"
  },
  "language_info": {
   "codemirror_mode": {
    "name": "ipython",
    "version": 3
   },
   "file_extension": ".py",
   "mimetype": "text/x-python",
   "name": "python",
   "nbconvert_exporter": "python",
   "pygments_lexer": "ipython3",
   "version": "3.7.7"
  }
 },
 "nbformat": 4,
 "nbformat_minor": 4
}
