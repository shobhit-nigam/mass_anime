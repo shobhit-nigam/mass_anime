{
 "cells": [
  {
   "cell_type": "code",
   "execution_count": 1,
   "metadata": {},
   "outputs": [],
   "source": [
    "class unix:\n",
    "    def cmd(self):\n",
    "        print(\"great command line\")\n",
    "        \n",
    "    def secure(self):\n",
    "        print(\"rwx makes it secure\")"
   ]
  },
  {
   "cell_type": "code",
   "execution_count": 3,
   "metadata": {},
   "outputs": [],
   "source": [
    "class linux(unix):\n",
    "    def free(self):\n",
    "        print(\"free and open source\")"
   ]
  },
  {
   "cell_type": "code",
   "execution_count": 4,
   "metadata": {},
   "outputs": [],
   "source": [
    "obju = unix()\n",
    "objl = linux()"
   ]
  },
  {
   "cell_type": "code",
   "execution_count": 5,
   "metadata": {},
   "outputs": [
    {
     "name": "stdout",
     "output_type": "stream",
     "text": [
      "great command line\n"
     ]
    }
   ],
   "source": [
    "obju.cmd()"
   ]
  },
  {
   "cell_type": "code",
   "execution_count": 6,
   "metadata": {},
   "outputs": [
    {
     "name": "stdout",
     "output_type": "stream",
     "text": [
      "free and open source\n"
     ]
    }
   ],
   "source": [
    "objl.free()"
   ]
  },
  {
   "cell_type": "code",
   "execution_count": 7,
   "metadata": {},
   "outputs": [],
   "source": [
    "class unix:\n",
    "    def cmd(self):\n",
    "        print(\"great command line\")\n",
    "        \n",
    "    def secure(self):\n",
    "        print(\"rwx makes it secure\")\n",
    "        \n",
    "class linux(unix):\n",
    "    def free(self):\n",
    "        print(\"free and open source\")\n",
    "        \n",
    "class mobileOs:\n",
    "    def portable(self):\n",
    "        print(\"portable to various devices\")\n",
    "        \n",
    "class android(linux, mobileOs):\n",
    "    def app(self):\n",
    "        print(\"has great support for various apps\")"
   ]
  },
  {
   "cell_type": "code",
   "execution_count": 8,
   "metadata": {},
   "outputs": [],
   "source": [
    "obju = unix()\n",
    "objl = linux()\n",
    "objm = mobileOs()\n",
    "obja = android()"
   ]
  },
  {
   "cell_type": "code",
   "execution_count": 9,
   "metadata": {},
   "outputs": [
    {
     "name": "stdout",
     "output_type": "stream",
     "text": [
      "portable to various devices\n"
     ]
    }
   ],
   "source": [
    "obja.portable()"
   ]
  },
  {
   "cell_type": "code",
   "execution_count": 10,
   "metadata": {},
   "outputs": [],
   "source": [
    "class unix:\n",
    "    def cmd(self):\n",
    "        print(\"great command line\")\n",
    "        \n",
    "    def secure(self):\n",
    "        print(\"rwx makes it secure\")\n",
    "        \n",
    "    def ui(self):\n",
    "        print(\"smoothest with cmd line\")\n",
    "        \n",
    "class linux(unix):\n",
    "    def free(self):\n",
    "        print(\"free and open source\")\n",
    "        \n",
    "class mobileOs:\n",
    "    def portable(self):\n",
    "        print(\"portable to various devices\")\n",
    "        \n",
    "class android(linux, mobileOs):\n",
    "    def app(self):\n",
    "        print(\"has great support for various apps\")\n",
    "        \n",
    "    def ui(self):\n",
    "        print(\"smoothest with GUI\")\n",
    "        "
   ]
  },
  {
   "cell_type": "code",
   "execution_count": 11,
   "metadata": {},
   "outputs": [],
   "source": [
    "obju = unix()\n",
    "objl = linux()\n",
    "objm = mobileOs()\n",
    "obja = android()"
   ]
  },
  {
   "cell_type": "code",
   "execution_count": 12,
   "metadata": {},
   "outputs": [
    {
     "name": "stdout",
     "output_type": "stream",
     "text": [
      "smoothest with cmd line\n"
     ]
    }
   ],
   "source": [
    "objl.ui()"
   ]
  },
  {
   "cell_type": "code",
   "execution_count": 13,
   "metadata": {},
   "outputs": [
    {
     "name": "stdout",
     "output_type": "stream",
     "text": [
      "smoothest with GUI\n"
     ]
    }
   ],
   "source": [
    "obja.ui()"
   ]
  },
  {
   "cell_type": "code",
   "execution_count": 14,
   "metadata": {},
   "outputs": [],
   "source": [
    "class linux:\n",
    "    def free(self):\n",
    "        print(\"free and open source\")\n",
    "        \n",
    "    def ui(self):\n",
    "        print(\"smoothest with cmd line\")\n",
    "        \n",
    "class mobileOs:\n",
    "    def portable(self):\n",
    "        print(\"portable to various devices\")\n",
    "        \n",
    "    def ui(self):\n",
    "        print(\"smoothest with GUI\")\n",
    "        \n",
    "class android(linux, mobileOs):\n",
    "    def app(self):\n",
    "        print(\"has great support for various apps\")\n",
    "        "
   ]
  },
  {
   "cell_type": "code",
   "execution_count": 15,
   "metadata": {},
   "outputs": [],
   "source": [
    "objl = linux()\n",
    "objm = mobileOs()\n",
    "obja = android()"
   ]
  },
  {
   "cell_type": "code",
   "execution_count": 16,
   "metadata": {},
   "outputs": [
    {
     "name": "stdout",
     "output_type": "stream",
     "text": [
      "smoothest with cmd line\n"
     ]
    }
   ],
   "source": [
    "objl.ui()"
   ]
  },
  {
   "cell_type": "code",
   "execution_count": 17,
   "metadata": {},
   "outputs": [
    {
     "name": "stdout",
     "output_type": "stream",
     "text": [
      "smoothest with GUI\n"
     ]
    }
   ],
   "source": [
    "objm.ui()"
   ]
  },
  {
   "cell_type": "code",
   "execution_count": 18,
   "metadata": {},
   "outputs": [
    {
     "name": "stdout",
     "output_type": "stream",
     "text": [
      "smoothest with cmd line\n"
     ]
    }
   ],
   "source": [
    "obja.ui()"
   ]
  },
  {
   "cell_type": "code",
   "execution_count": 19,
   "metadata": {},
   "outputs": [],
   "source": [
    "class linux:\n",
    "    def free(self):\n",
    "        print(\"free and open source\")\n",
    "        \n",
    "    def ui(self):\n",
    "        print(\"smoothest with cmd line\")\n",
    "        \n",
    "class mobileOs:\n",
    "    def portable(self):\n",
    "        print(\"portable to various devices\")\n",
    "        \n",
    "    def ui(self):\n",
    "        print(\"smoothest with GUI\")\n",
    "        \n",
    "class android(mobileOs, linux):\n",
    "    def app(self):\n",
    "        print(\"has great support for various apps\")\n",
    "        "
   ]
  },
  {
   "cell_type": "code",
   "execution_count": 20,
   "metadata": {},
   "outputs": [],
   "source": [
    "objl = linux()\n",
    "objm = mobileOs()\n",
    "obja = android()"
   ]
  },
  {
   "cell_type": "code",
   "execution_count": 21,
   "metadata": {},
   "outputs": [
    {
     "name": "stdout",
     "output_type": "stream",
     "text": [
      "smoothest with GUI\n"
     ]
    }
   ],
   "source": [
    "obja.ui()"
   ]
  },
  {
   "cell_type": "code",
   "execution_count": null,
   "metadata": {},
   "outputs": [],
   "source": []
  }
 ],
 "metadata": {
  "kernelspec": {
   "display_name": "Python 3",
   "language": "python",
   "name": "python3"
  },
  "language_info": {
   "codemirror_mode": {
    "name": "ipython",
    "version": 3
   },
   "file_extension": ".py",
   "mimetype": "text/x-python",
   "name": "python",
   "nbconvert_exporter": "python",
   "pygments_lexer": "ipython3",
   "version": "3.7.7"
  }
 },
 "nbformat": 4,
 "nbformat_minor": 4
}
